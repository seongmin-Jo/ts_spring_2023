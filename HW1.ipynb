{
 "cells": [
  {
   "cell_type": "code",
   "execution_count": 129,
   "id": "30513f3f",
   "metadata": {},
   "outputs": [
    {
     "name": "stdout",
     "output_type": "stream",
     "text": [
      "1-step-ahead forecast: 0.01584186690363725\n",
      "2-step-ahead forecast: -0.002546885578295938\n"
     ]
    }
   ],
   "source": [
    "# 4\n",
    "import numpy as np\n",
    "\n",
    "# Set the parameters\n",
    "a_100 = 0.01     # a value of the error term at time 100\n",
    "sigma_a = 0.025  # standard deviation of the error term\n",
    "beta = 0.2       # coefficient on the lagged error term\n",
    "\n",
    "# Generate the 1-step-ahead forecast\n",
    "a_101 = np.random.normal(loc=0, scale=sigma_a) # random variable following white series\n",
    "R_101 = a_101 + beta * a_100\n",
    "\n",
    "print(\"1-step-ahead forecast:\", R_101)\n",
    "\n",
    "# Generate the 2-step-ahead forecast\n",
    "a_102 = np.random.normal(loc=0, scale=sigma_a)\n",
    "R_102 = a_102 + beta * (a_101 + beta * a_100)\n",
    "\n",
    "print(\"2-step-ahead forecast:\", R_102)"
   ]
  },
  {
   "cell_type": "code",
   "execution_count": 128,
   "id": "67719b9b",
   "metadata": {},
   "outputs": [
    {
     "name": "stdout",
     "output_type": "stream",
     "text": [
      "1-step-ahead forecast error standard deviation: 0.025495097567963927\n",
      "2-step-ahead forecast error standard deviation: 0.025980762113533163\n"
     ]
    }
   ],
   "source": [
    "import numpy as np\n",
    "\n",
    "# the variance of the forecast errors for the MA(1) :\n",
    "# Var(Rt+k - (at+k + beta * at)) = Var(at+k) + beta^2 * Var(at+k-1)\n",
    "# where Var(at+k) = sigma_a^2 and Var(at+k-1) = sigma_a^2\n",
    "\n",
    "# Set the parameters\n",
    "sigma_a = 0.025\n",
    "beta = 0.2\n",
    "\n",
    "# Compute the standard deviation of the forecast error for 1-step-ahead forecast\n",
    "std_error_1 = np.sqrt(sigma_a**2 + (beta**2)*sigma_a**2)\n",
    "\n",
    "# Compute the standard deviation of the forecast error for 2-step-ahead forecast\n",
    "std_error_2 = np.sqrt(sigma_a**2 + (beta**2)*sigma_a**2 + (beta**2)*sigma_a**2)\n",
    "\n",
    "print(\"1-step-ahead forecast error standard deviation:\", std_error_1)\n",
    "print(\"2-step-ahead forecast error standard deviation:\", std_error_2)"
   ]
  },
  {
   "cell_type": "code",
   "execution_count": 14,
   "id": "3326f15f",
   "metadata": {},
   "outputs": [
    {
     "name": "stdout",
     "output_type": "stream",
     "text": [
      "Empirical lag-1 autocorrelation: 0.34687948088518095\n",
      "Theoretical lag-1 autocorrelation: 0.2\n",
      "Empirical lag-2 autocorrelation: -0.006943277039356241\n",
      "Theoretical lag-2 autocorrelation: 0.04000000000000001\n"
     ]
    }
   ],
   "source": [
    "import numpy as np\n",
    "\n",
    "# For the MA(1) model, the theoretical autocorrelation function (ACF) is given by:\n",
    "# ρ(k) = φ^k\n",
    "\n",
    "# Therefore, for the MA(1) model with φ=0.2, we have:\n",
    "# ρ(1) = 0.2^1 = 0.2\n",
    "# ρ(2) = 0.2^2 = 0.04\n",
    "\n",
    "# Set the parameters\n",
    "a_t_1 = 0\n",
    "sigma_a = 0.025\n",
    "beta = 0.2\n",
    "n_periods = 100\n",
    "\n",
    "# Generate the error terms\n",
    "a_t = np.random.normal(loc=0, scale=sigma_a, size=n_periods+1)\n",
    "\n",
    "# Generate the returns using the MA(1) equation\n",
    "R_t = np.zeros(n_periods+1)\n",
    "for t in range(1, n_periods+1):\n",
    "    R_t[t] = a_t[t] + beta * a_t[t-1]\n",
    "\n",
    "# Compute the autocorrelations\n",
    "lag_1_autocorr = np.corrcoef(R_t[1:], R_t[:-1])[0,1]\n",
    "lag_2_autocorr = np.corrcoef(R_t[2:], R_t[:-2])[0,1]\n",
    "\n",
    "# Compute the theoretical autocorrelations\n",
    "theoretical_lag_1_autocorr = phi**1\n",
    "theoretical_lag_2_autocorr = phi**2\n",
    "\n",
    "print(\"Empirical lag-1 autocorrelation:\", lag_1_autocorr)\n",
    "print(\"Theoretical lag-1 autocorrelation:\", theoretical_lag_1_autocorr)\n",
    "print(\"Empirical lag-2 autocorrelation:\", lag_2_autocorr)\n",
    "print(\"Theoretical lag-2 autocorrelation:\", theoretical_lag_2_autocorr)"
   ]
  },
  {
   "cell_type": "code",
   "execution_count": null,
   "id": "daa99305",
   "metadata": {},
   "outputs": [],
   "source": []
  },
  {
   "cell_type": "code",
   "execution_count": null,
   "id": "2081e57f",
   "metadata": {},
   "outputs": [],
   "source": []
  },
  {
   "cell_type": "code",
   "execution_count": 58,
   "id": "e66b7f36",
   "metadata": {},
   "outputs": [],
   "source": [
    "# 5\n",
    "import pandas as pd\n",
    "import numpy as np\n",
    "import statsmodels.api as sm\n",
    "\n",
    "data = pd.read_table(\"Q5m-unrate.txt\")\n",
    "\n",
    "rate = []\n",
    "for i in data['Year Mon Day Rate']:\n",
    "    rate.append(float(i[-3:]))\n",
    "data = np.array(rate)"
   ]
  },
  {
   "cell_type": "code",
   "execution_count": 59,
   "id": "a5595efd",
   "metadata": {},
   "outputs": [
    {
     "name": "stdout",
     "output_type": "stream",
     "text": [
      "MA(1) model forecasts for April to July 2009: [6.8997644  5.47111602 5.47111602 5.47111602]\n",
      "AR(1) model forecasts for April to July 2009: [8.41007864 8.2317625  8.06434242 7.90715261]\n"
     ]
    }
   ],
   "source": [
    "# Fit an MA(1) model to the data\n",
    "model_ma = sm.tsa.statespace.SARIMAX(data, order=(0,0,1), trend=\"c\")\n",
    "results_ma = model_ma.fit()\n",
    "\n",
    "# Fit an AR(1) model to the data\n",
    "model_ar = sm.tsa.statespace.SARIMAX(data, order=(1,0,0), trend=\"c\")\n",
    "results_ar = model_ar.fit()\n",
    "\n",
    "# Forecast the unemployment rate for April, May, June, and July of 2009 using the MA(1) model\n",
    "forecast_ma = results_ma.forecast(steps=4)\n",
    "\n",
    "# Forecast the unemployment rate for April, May, June, and July of 2009 using the AR(1) model\n",
    "forecast_ar = results_ar.forecast(steps=4)\n",
    "\n",
    "print(\"MA(1) model forecasts for April to July 2009:\", forecast_ma)\n",
    "print(\"AR(1) model forecasts for April to July 2009:\", forecast_ar)"
   ]
  },
  {
   "cell_type": "code",
   "execution_count": 63,
   "id": "8f419b10",
   "metadata": {},
   "outputs": [
    {
     "data": {
      "image/png": "[encoded data removed]",
      "text/plain": [
       "<Figure size 1200x400 with 1 Axes>"
      ]
     },
     "metadata": {},
     "output_type": "display_data"
    }
   ],
   "source": [
    "# We then extract the residuals of the model \n",
    "# using the resid attribute of the fitted results object. \n",
    "# and plot these residuals over time\n",
    "\n",
    "import matplotlib.pyplot as plt\n",
    "\n",
    "residuals = results_ar.resid\n",
    "residuals = pd.Series(residuals)\n",
    "residuals.plot(figsize=(12,4))\n",
    "plt.ylabel(\"Residuals\")\n",
    "plt.show()"
   ]
  },
  {
   "cell_type": "code",
   "execution_count": 66,
   "id": "1fe6d76e",
   "metadata": {},
   "outputs": [
    {
     "data": {
      "image/png": "[encoded data removed]",
      "text/plain": [
       "<Figure size 1200x400 with 1 Axes>"
      ]
     },
     "metadata": {},
     "output_type": "display_data"
    }
   ],
   "source": [
    "residuals = results_ma.resid\n",
    "residuals = pd.Series(residuals)\n",
    "residuals.plot(figsize=(12,4))\n",
    "plt.ylabel(\"Residuals\")\n",
    "plt.show()"
   ]
  },
  {
   "cell_type": "code",
   "execution_count": 67,
   "id": "d82d7444",
   "metadata": {},
   "outputs": [],
   "source": [
    "# If the residuals exhibit cyclical patterns, \n",
    "# then this may suggest the presence of business cycles in the data. \n",
    "# However, if the residuals are purely random with no discernible patterns, \n",
    "# then this may suggest the absence of business cycles."
   ]
  },
  {
   "cell_type": "code",
   "execution_count": null,
   "id": "b372e410",
   "metadata": {},
   "outputs": [],
   "source": []
  },
  {
   "cell_type": "code",
   "execution_count": null,
   "id": "5eef25fc",
   "metadata": {},
   "outputs": [],
   "source": []
  },
  {
   "cell_type": "code",
   "execution_count": 120,
   "id": "fba38f22",
   "metadata": {},
   "outputs": [],
   "source": [
    "# 6\n",
    "import pandas as pd \n",
    "from statsmodels.tsa.arima.model import ARIMA\n",
    "from statsmodels.tsa.stattools import acf, pacf, q_stat\n",
    "from scipy.stats import chi2\n",
    "\n",
    "# i found the data from internet : https://github.com/xiaoyem/fts/blob/master/data/m-ew6299.txt \n",
    "# i cannot found according data in the google drive\n",
    "\n",
    "data = pd.read_table('m-ew6299.txt')\n",
    "data_list = [-0.792]\n",
    "for i in data['  -0.792']:\n",
    "    data_list.append(i)\n",
    "    \n",
    "data = np.array(data_list)"
   ]
  },
  {
   "cell_type": "code",
   "execution_count": 142,
   "id": "a3fd7306",
   "metadata": {},
   "outputs": [
    {
     "name": "stdout",
     "output_type": "stream",
     "text": [
      "AR(1) Model:\n",
      "ACF: [ 1.          0.01489457 -0.05516232 -0.0361832  -0.01073085  0.01556859\n",
      "  0.00114857 -0.03348596 -0.10457776  0.01529998  0.01053869  0.01470991\n",
      "  0.10834037]\n",
      "PACF: [ 1.          0.01492731 -0.05564055 -0.03483477 -0.0129133   0.01218322\n",
      " -0.00180118 -0.03345888 -0.10536062  0.0149457  -0.00378902  0.00865415\n",
      "  0.11228448]\n",
      "Q-statistics: [ 0.10094098  1.48240917  2.07548769  2.12753598  2.23684976  2.23744341\n",
      "  2.7409115   7.64046667  7.74510468  7.79463924  7.890929   13.10243893]\n",
      "P-values: [0.75070333 0.47653954 0.55688767 0.71231535 0.81549575 0.89661731\n",
      " 0.90789146 0.4693542  0.56002365 0.64888835 0.72303969 0.36163918]\n",
      "\n",
      "\n",
      "AR(2) Model:\n",
      "ACF: [ 1.00000000e+00 -9.97814407e-04  4.87348768e-03 -2.02287065e-02\n",
      " -1.12271799e-02  1.03328377e-02 -5.69079530e-03 -3.03905168e-02\n",
      " -1.03841985e-01  1.68636050e-02  9.31928632e-03  1.06508275e-02\n",
      "  1.04887386e-01]\n",
      "PACF: [ 1.         -0.00100001  0.00489396 -0.02035341 -0.01139398  0.01062933\n",
      " -0.00605138 -0.03146722 -0.10558008  0.01715835  0.00931124  0.00597408\n",
      "  0.1077355 ]\n",
      "Q-statistics: [4.53013284e-04 1.12359138e-02 1.96603771e-01 2.53578176e-01\n",
      " 3.01730334e-01 3.16303652e-01 7.30992648e-01 5.56184737e+00\n",
      " 5.68896576e+00 5.72770045e+00 5.77818131e+00 1.06627868e+01]\n",
      "P-values: [0.98301902 0.99439779 0.97813569 0.99261042 0.99761042 0.99941418\n",
      " 0.99808611 0.69617861 0.77059895 0.83759828 0.88774695 0.55801735]\n",
      "\n",
      "\n",
      "AR(3) Model:\n",
      "ACF: [ 1.00000000e+00  4.11128222e-04  3.33146089e-05  6.66427026e-04\n",
      " -7.11013144e-03  8.48138913e-03 -5.46892974e-03 -3.08222889e-02\n",
      " -1.03016686e-01  1.89794464e-02  7.91790371e-03  6.74642593e-03\n",
      "  1.05520180e-01]\n",
      "PACF: [ 1.00000000e+00  4.12031801e-04  3.32916047e-05  6.70813061e-04\n",
      " -7.17361130e-03  8.58176547e-03 -5.55019938e-03 -3.12930196e-02\n",
      " -1.05010964e-01  1.94655371e-02  8.14684797e-03  6.85178024e-03\n",
      "  1.08619274e-01]\n",
      "Q-statistics: [7.69070188e-05 7.74108967e-05 2.78599513e-04 2.31289936e-02\n",
      " 5.55712102e-02 6.90303468e-02 4.95586404e-01 5.24995843e+00\n",
      " 5.41097650e+00 5.43893766e+00 5.45919151e+00 1.04029133e+01]\n",
      "P-values: [0.99300291 0.9999613  0.99999876 0.99993364 0.99996204 0.99999332\n",
      " 0.99946248 0.73055666 0.79711266 0.85999707 0.90690863 0.58065842]\n",
      "\n",
      "\n"
     ]
    }
   ],
   "source": [
    "models = {}\n",
    "for p in range(1, 4):\n",
    "    model = ARIMA(data, order=(p, 0, 0)).fit()\n",
    "    models[p] = model\n",
    "    \n",
    "def calculate_q_stat(acf_values, n, num_lags):\n",
    "    q_stat_values = np.cumsum((n - np.arange(1, num_lags + 1)) * acf_values**2)\n",
    "    p_values = chi2.sf(q_stat_values, np.arange(1, num_lags + 1))\n",
    "    return q_stat_values, p_values\n",
    "\n",
    "num_lags = 12\n",
    "\n",
    "for p, model in models.items():\n",
    "    print(f\"AR({p}) Model:\")\n",
    "    \n",
    "    # Calculate ACF and PACF\n",
    "    residuals = model.resid\n",
    "    acf_values = acf(residuals, nlags=num_lags, fft=True)\n",
    "    pacf_values = pacf(residuals, nlags=num_lags)\n",
    "    \n",
    "    # Calculate Q-statistics\n",
    "    q_stat_values, p_values = calculate_q_stat(acf_values[1:], len(residuals), num_lags)\n",
    "    \n",
    "    print(\"ACF:\", acf_values)\n",
    "    print(\"PACF:\", pacf_values)\n",
    "    print(\"Q-statistics:\", q_stat_values)\n",
    "    print(\"P-values:\", p_values)\n",
    "    print(\"\\n\")"
   ]
  },
  {
   "cell_type": "code",
   "execution_count": 143,
   "id": "7b28ef46",
   "metadata": {},
   "outputs": [
    {
     "name": "stdout",
     "output_type": "stream",
     "text": [
      "MA(1) Model:\n",
      "ACF: [ 1.          0.00187337 -0.00178649 -0.03541064 -0.01075645  0.01230245\n",
      " -0.00473419 -0.03082625 -0.10416724  0.01522136  0.01011881  0.01372471\n",
      "  0.10467489]\n",
      "PACF: [ 1.          0.00187749 -0.00179789 -0.03563864 -0.01073678  0.0123655\n",
      " -0.0061519  -0.03207115 -0.10545261  0.01549263  0.00766044  0.006107\n",
      "  0.10822498]\n",
      "Q-statistics: [1.59683246e-03 3.04579800e-03 5.71068646e-01 6.23365580e-01\n",
      " 6.91624580e-01 7.01710233e-01 1.12837592e+00 5.98954049e+00\n",
      " 6.09310584e+00 6.13877197e+00 6.22259558e+00 1.10874289e+01]\n",
      "P-values: [0.96812471 0.99847826 0.90302241 0.96043218 0.98342517 0.99445408\n",
      " 0.99248364 0.64840357 0.73056491 0.80347253 0.85810666 0.52144126]\n",
      "\n",
      "\n",
      "MA(2) Model:\n",
      "ACF: [ 1.00000000e+00  2.68376390e-04 -7.53715595e-03 -3.40375796e-02\n",
      " -1.10047006e-02  1.26156407e-02 -4.07349701e-03 -3.07690409e-02\n",
      " -1.04172434e-01  1.56624557e-02  1.00380759e-02  1.32156623e-02\n",
      "  1.05179983e-01]\n",
      "PACF: [ 1.00000000e+00  2.68966228e-04 -7.57043217e-03 -3.42608722e-02\n",
      " -1.11634580e-02  1.22496690e-02 -5.47172248e-03 -3.18763161e-02\n",
      " -1.05656114e-01  1.52619831e-02  6.48178821e-03  6.06190277e-03\n",
      "  1.08777091e-01]\n",
      "Q-statistics: [3.27717784e-05 2.58239305e-02 5.50650171e-01 6.05388924e-01\n",
      " 6.77167554e-01 6.84634574e-01 1.10971809e+00 5.97136748e+00\n",
      " 6.08102218e+00 6.12596246e+00 6.20368337e+00 1.11155794e+01]\n",
      "P-values: [0.9954324  0.98717104 0.90763092 0.96246298 0.98419823 0.99481668\n",
      " 0.99285931 0.65043929 0.73178265 0.80457168 0.85943392 0.51904037]\n",
      "\n",
      "\n",
      "MA(3) Model:\n",
      "ACF: [ 1.00000000e+00  1.08651368e-03 -3.13521129e-04 -4.90931732e-03\n",
      " -1.82562012e-02  1.07131998e-02 -4.89488365e-03 -3.07336482e-02\n",
      " -1.04314133e-01  1.81961614e-02  9.30473612e-03  8.08589329e-03\n",
      "  1.06775204e-01]\n",
      "PACF: [ 1.00000000e+00  1.08890162e-03 -3.16088361e-04 -4.94114852e-03\n",
      " -1.84075759e-02  1.08712225e-02 -5.02231965e-03 -3.13918387e-02\n",
      " -1.06497795e-01  1.90222880e-02  8.99056403e-03  6.28298621e-03\n",
      "  1.07746573e-01]\n",
      "Q-statistics: [5.37132945e-04 5.81759101e-04 1.14996917e-02 1.62146267e-01\n",
      " 2.13908732e-01 2.24690681e-01 6.48796833e-01 5.52368122e+00\n",
      " 5.67168305e+00 5.71029689e+00 5.73939173e+00 1.08014110e+01]\n",
      "P-values: [0.98150978 0.99970916 0.99967315 0.99688592 0.99895683 0.99978272\n",
      " 0.99869897 0.70041493 0.77227456 0.83898725 0.89017455 0.54601018]\n",
      "\n",
      "\n"
     ]
    }
   ],
   "source": [
    "#(b)\n",
    "models = {}\n",
    "for q in range(1, 4):\n",
    "    model = ARIMA(data, order=(0, 0, q)).fit()\n",
    "    models[q] = model\n",
    "    \n",
    "num_lags = 12\n",
    "\n",
    "for q, model in models.items():\n",
    "    print(f\"MA({q}) Model:\")\n",
    "    \n",
    "    # Calculate ACF and PACF\n",
    "    residuals = model.resid\n",
    "    acf_values = acf(residuals, nlags=num_lags, fft=True)\n",
    "    pacf_values = pacf(residuals, nlags=num_lags)\n",
    "    \n",
    "    # Calculate Q-statistics\n",
    "    q_stat_values, p_values = calculate_q_stat(acf_values[1:], len(residuals), num_lags)\n",
    "    \n",
    "    print(\"ACF:\", acf_values)\n",
    "    print(\"PACF:\", pacf_values)\n",
    "    print(\"Q-statistics:\", q_stat_values)\n",
    "    print(\"P-values:\", p_values)\n",
    "    print(\"\\n\")"
   ]
  },
  {
   "cell_type": "code",
   "execution_count": 149,
   "id": "1bf16727",
   "metadata": {},
   "outputs": [
    {
     "name": "stdout",
     "output_type": "stream",
     "text": [
      "AR Models Forecasts:\n",
      "AR(1) model 1-step-ahead forecast,January 200 : 2.2500\n",
      "AR(1) model 2-step-ahead forecast,February 200: 1.0603\n",
      "\n",
      "AR(2) model 1-step-ahead forecast,January 200 : 2.3050\n",
      "AR(2) model 2-step-ahead forecast,February 200: 1.0921\n",
      "\n",
      "AR(3) model 1-step-ahead forecast,January 200 : 2.2654\n",
      "AR(3) model 2-step-ahead forecast,February 200: 0.8227\n",
      "\n",
      "MA Models Forecasts:\n",
      "MA(1) model 1-step-ahead forecast,January 200: 2.2500\n",
      "MA(1) model 2-step-ahead forecast,February 200: 1.0603\n",
      "\n",
      "MA(2) model 1-step-ahead forecast,January 200: 2.3050\n",
      "MA(2) model 2-step-ahead forecast,February 200: 1.0921\n",
      "\n",
      "MA(3) model 1-step-ahead forecast,January 200: 2.2654\n",
      "MA(3) model 2-step-ahead forecast,February 200: 0.8227\n",
      "\n"
     ]
    }
   ],
   "source": [
    "# (c)\n",
    "steps = 2\n",
    "\n",
    "print(\"AR Models Forecasts:\")\n",
    "for p, model in models.items():\n",
    "    forecast = model.forecast(steps=steps)\n",
    "    print(f\"AR({p}) model 1-step-ahead forecast,January 200 : {forecast[0]:.4f}\")\n",
    "    print(f\"AR({p}) model 2-step-ahead forecast,February 200: {forecast[1]:.4f}\\n\")\n",
    "\n",
    "print(\"MA Models Forecasts:\")\n",
    "for q, model in models.items():\n",
    "    forecast = model.forecast(steps=steps)\n",
    "    print(f\"MA({q}) model 1-step-ahead forecast,January 200: {forecast[0]:.4f}\")\n",
    "    print(f\"MA({q}) model 2-step-ahead forecast,February 200: {forecast[1]:.4f}\\n\")"
   ]
  },
  {
   "cell_type": "code",
   "execution_count": 150,
   "id": "e06eb42c",
   "metadata": {},
   "outputs": [
    {
     "name": "stdout",
     "output_type": "stream",
     "text": [
      "AR Models Comparison:\n",
      "AR(1) model AIC: 2846.2207, BIC: 2858.5882\n",
      "AR(2) model AIC: 2846.3521, BIC: 2862.8421\n",
      "AR(3) model AIC: 2848.1173, BIC: 2868.7297\n",
      "MA Models Comparison:\n",
      "MA(1) model AIC: 2844.7304, BIC: 2857.0979\n",
      "MA(2) model AIC: 2846.7131, BIC: 2863.2030\n",
      "MA(3) model AIC: 2848.2776, BIC: 2868.8901\n"
     ]
    }
   ],
   "source": [
    "# (d)\n",
    "# To compare the fitted AR and MA models, you can use the Akaike Information Criterion (AIC) and Bayesian Information Criterion (BIC) values, \n",
    "# which are provided by the ARIMA model in the Statsmodels library. Lower values of AIC and BIC indicate better model fit.\n",
    "\n",
    "ma_models = {}\n",
    "for q in range(1, 4):\n",
    "    model = ARIMA(data, order=(0, 0, q)).fit()\n",
    "    ma_models[q] = model\n",
    "    \n",
    "ar_models = {}\n",
    "for p in range(1, 4):\n",
    "    model = ARIMA(data, order=(p, 0, 0)).fit()\n",
    "    ar_models[p] = model\n",
    "\n",
    "print(\"AR Models Comparison:\")\n",
    "for p, model in ar_models.items():\n",
    "    print(f\"AR({p}) model AIC: {model.aic:.4f}, BIC: {model.bic:.4f}\")\n",
    "    \n",
    "print(\"MA Models Comparison:\")\n",
    "for p, model in ma_models.items():\n",
    "    print(f\"MA({p}) model AIC: {model.aic:.4f}, BIC: {model.bic:.4f}\")"
   ]
  },
  {
   "cell_type": "code",
   "execution_count": null,
   "id": "823236b0",
   "metadata": {},
   "outputs": [],
   "source": []
  },
  {
   "cell_type": "code",
   "execution_count": 156,
   "id": "4800d036",
   "metadata": {},
   "outputs": [],
   "source": [
    "#7 \n",
    "import pandas as pd\n",
    "import numpy as np\n",
    "from statsmodels.tsa.arima.model import ARIMA\n",
    "from statsmodels.stats.diagnostic import acorr_ljungbox\n",
    "\n",
    "data = pd.read_excel('ARMA2.xls')\n",
    "yt = np.array(data.iloc[:,4:5])"
   ]
  },
  {
   "cell_type": "code",
   "execution_count": 169,
   "id": "68b1f2c9",
   "metadata": {},
   "outputs": [
    {
     "name": "stdout",
     "output_type": "stream",
     "text": [
      "Best ARMA Model:\n",
      "[1, 0]\n",
      "                               SARIMAX Results                                \n",
      "==============================================================================\n",
      "Dep. Variable:                      y   No. Observations:                  499\n",
      "Model:                 ARIMA(1, 0, 0)   Log Likelihood                -720.963\n",
      "Date:                Fri, 24 Mar 2023   AIC                           1447.925\n",
      "Time:                        08:43:15   BIC                           1460.563\n",
      "Sample:                             0   HQIC                          1452.885\n",
      "                                - 499                                         \n",
      "Covariance Type:                  opg                                         \n",
      "==============================================================================\n",
      "                 coef    std err          z      P>|z|      [0.025      0.975]\n",
      "------------------------------------------------------------------------------\n",
      "const          0.0042      0.043      0.096      0.924      -0.081       0.089\n",
      "ar.L1         -0.0589      0.046     -1.288      0.198      -0.149       0.031\n",
      "sigma2         1.0531      0.060     17.575      0.000       0.936       1.171\n",
      "===================================================================================\n",
      "Ljung-Box (L1) (Q):                   0.00   Jarque-Bera (JB):                 5.27\n",
      "Prob(Q):                              0.97   Prob(JB):                         0.07\n",
      "Heteroskedasticity (H):               1.25   Skew:                             0.01\n",
      "Prob(H) (two-sided):                  0.15   Kurtosis:                         3.50\n",
      "===================================================================================\n",
      "\n",
      "Warnings:\n",
      "[1] Covariance matrix calculated using the outer product of gradients (complex-step).\n"
     ]
    },
    {
     "name": "stderr",
     "output_type": "stream",
     "text": [
      "C:\\Users\\joseongmin\\Anaconda3\\lib\\site-packages\\statsmodels\\tsa\\statespace\\sarimax.py:966: UserWarning: Non-stationary starting autoregressive parameters found. Using zeros as starting parameters.\n",
      "  warn('Non-stationary starting autoregressive parameters'\n",
      "C:\\Users\\joseongmin\\Anaconda3\\lib\\site-packages\\statsmodels\\tsa\\statespace\\sarimax.py:978: UserWarning: Non-invertible starting MA parameters found. Using zeros as starting parameters.\n",
      "  warn('Non-invertible starting MA parameters found.'\n"
     ]
    }
   ],
   "source": [
    "# Fit ARMA models and find the best model using AIC\n",
    "best_model = None\n",
    "models = {}\n",
    "best_aic = np.inf\n",
    "best_p_q = None\n",
    "\n",
    "for p in range(3):\n",
    "    for q in range(3):\n",
    "        if p ==0 and q ==0:\n",
    "            pass\n",
    "        else:\n",
    "            model = ARIMA(yt, order=(p, 0, q)).fit()\n",
    "            models[(p,q)] = model\n",
    "            if model.aic < best_aic:\n",
    "                best_model = model\n",
    "                best_aic = model.aic\n",
    "                best_p_q = [p,q]\n",
    "\n",
    "print(\"Best ARMA Model:\")  # best ARMA model is AR(1) in my code \n",
    "print(best_p_q)\n",
    "print(best_model.summary())"
   ]
  },
  {
   "cell_type": "code",
   "execution_count": 173,
   "id": "067d9619",
   "metadata": {},
   "outputs": [
    {
     "data": {
      "text/html": [
       "<table class=\"simpletable\">\n",
       "<caption>SARIMAX Results</caption>\n",
       "<tr>\n",
       "  <th>Dep. Variable:</th>           <td>y</td>        <th>  No. Observations:  </th>    <td>499</td>  \n",
       "</tr>\n",
       "<tr>\n",
       "  <th>Model:</th>            <td>ARIMA(2, 0, 0)</td>  <th>  Log Likelihood     </th> <td>-720.689</td>\n",
       "</tr>\n",
       "<tr>\n",
       "  <th>Date:</th>            <td>Fri, 24 Mar 2023</td> <th>  AIC                </th> <td>1449.379</td>\n",
       "</tr>\n",
       "<tr>\n",
       "  <th>Time:</th>                <td>08:43:36</td>     <th>  BIC                </th> <td>1466.229</td>\n",
       "</tr>\n",
       "<tr>\n",
       "  <th>Sample:</th>                  <td>0</td>        <th>  HQIC               </th> <td>1455.991</td>\n",
       "</tr>\n",
       "<tr>\n",
       "  <th></th>                      <td> - 499</td>      <th>                     </th>     <td> </td>   \n",
       "</tr>\n",
       "<tr>\n",
       "  <th>Covariance Type:</th>        <td>opg</td>       <th>                     </th>     <td> </td>   \n",
       "</tr>\n",
       "</table>\n",
       "<table class=\"simpletable\">\n",
       "<tr>\n",
       "     <td></td>       <th>coef</th>     <th>std err</th>      <th>z</th>      <th>P>|z|</th>  <th>[0.025</th>    <th>0.975]</th>  \n",
       "</tr>\n",
       "<tr>\n",
       "  <th>const</th>  <td>    0.0043</td> <td>    0.045</td> <td>    0.096</td> <td> 0.924</td> <td>   -0.084</td> <td>    0.093</td>\n",
       "</tr>\n",
       "<tr>\n",
       "  <th>ar.L1</th>  <td>   -0.0569</td> <td>    0.046</td> <td>   -1.237</td> <td> 0.216</td> <td>   -0.147</td> <td>    0.033</td>\n",
       "</tr>\n",
       "<tr>\n",
       "  <th>ar.L2</th>  <td>    0.0331</td> <td>    0.044</td> <td>    0.751</td> <td> 0.452</td> <td>   -0.053</td> <td>    0.120</td>\n",
       "</tr>\n",
       "<tr>\n",
       "  <th>sigma2</th> <td>    1.0519</td> <td>    0.060</td> <td>   17.521</td> <td> 0.000</td> <td>    0.934</td> <td>    1.170</td>\n",
       "</tr>\n",
       "</table>\n",
       "<table class=\"simpletable\">\n",
       "<tr>\n",
       "  <th>Ljung-Box (L1) (Q):</th>     <td>0.00</td> <th>  Jarque-Bera (JB):  </th> <td>5.00</td> \n",
       "</tr>\n",
       "<tr>\n",
       "  <th>Prob(Q):</th>                <td>0.99</td> <th>  Prob(JB):          </th> <td>0.08</td> \n",
       "</tr>\n",
       "<tr>\n",
       "  <th>Heteroskedasticity (H):</th> <td>1.23</td> <th>  Skew:              </th> <td>-0.00</td>\n",
       "</tr>\n",
       "<tr>\n",
       "  <th>Prob(H) (two-sided):</th>    <td>0.17</td> <th>  Kurtosis:          </th> <td>3.49</td> \n",
       "</tr>\n",
       "</table><br/><br/>Warnings:<br/>[1] Covariance matrix calculated using the outer product of gradients (complex-step)."
      ],
      "text/plain": [
       "<class 'statsmodels.iolib.summary.Summary'>\n",
       "\"\"\"\n",
       "                               SARIMAX Results                                \n",
       "==============================================================================\n",
       "Dep. Variable:                      y   No. Observations:                  499\n",
       "Model:                 ARIMA(2, 0, 0)   Log Likelihood                -720.689\n",
       "Date:                Fri, 24 Mar 2023   AIC                           1449.379\n",
       "Time:                        08:43:36   BIC                           1466.229\n",
       "Sample:                             0   HQIC                          1455.991\n",
       "                                - 499                                         \n",
       "Covariance Type:                  opg                                         \n",
       "==============================================================================\n",
       "                 coef    std err          z      P>|z|      [0.025      0.975]\n",
       "------------------------------------------------------------------------------\n",
       "const          0.0043      0.045      0.096      0.924      -0.084       0.093\n",
       "ar.L1         -0.0569      0.046     -1.237      0.216      -0.147       0.033\n",
       "ar.L2          0.0331      0.044      0.751      0.452      -0.053       0.120\n",
       "sigma2         1.0519      0.060     17.521      0.000       0.934       1.170\n",
       "===================================================================================\n",
       "Ljung-Box (L1) (Q):                   0.00   Jarque-Bera (JB):                 5.00\n",
       "Prob(Q):                              0.99   Prob(JB):                         0.08\n",
       "Heteroskedasticity (H):               1.23   Skew:                            -0.00\n",
       "Prob(H) (two-sided):                  0.17   Kurtosis:                         3.49\n",
       "===================================================================================\n",
       "\n",
       "Warnings:\n",
       "[1] Covariance matrix calculated using the outer product of gradients (complex-step).\n",
       "\"\"\""
      ]
     },
     "execution_count": 173,
     "metadata": {},
     "output_type": "execute_result"
    }
   ],
   "source": [
    "models[(2, 0)].summary()"
   ]
  },
  {
   "cell_type": "code",
   "execution_count": 175,
   "id": "c3eaad78",
   "metadata": {},
   "outputs": [
    {
     "name": "stdout",
     "output_type": "stream",
     "text": [
      "ARMA(0, 1) Model:\n",
      "Estimates:\n",
      "[ 0.00415621 -0.05529061  1.05333073]\n",
      "Standard Errors:\n",
      "[0.04341997 0.04509429 0.0599948 ]\n",
      "\n",
      "\n",
      "ARMA(0, 2) Model:\n",
      "Estimates:\n",
      "[ 0.00432623 -0.05577487  0.03458758  1.05208301]\n",
      "Standard Errors:\n",
      "[0.04515013 0.04602967 0.04503076 0.06009789]\n",
      "\n",
      "\n",
      "ARMA(1, 0) Model:\n",
      "Estimates:\n",
      "[ 0.00415644 -0.05893554  1.0530979 ]\n",
      "Standard Errors:\n",
      "[0.04339166 0.04576798 0.05992169]\n",
      "\n",
      "\n",
      "ARMA(1, 1) Model:\n",
      "Estimates:\n",
      "[ 0.00426288 -0.61750649  0.56196387  1.05151694]\n",
      "Standard Errors:\n",
      "[0.04444622 0.41303596 0.43507018 0.05978474]\n",
      "\n",
      "\n",
      "ARMA(1, 2) Model:\n",
      "Estimates:\n",
      "[ 0.00425828 -0.6819776   0.62581799 -0.0068531   1.0514771 ]\n",
      "Standard Errors:\n",
      "[0.04485428 0.60803387 0.6117952  0.06779547 0.06022887]\n",
      "\n",
      "\n",
      "ARMA(2, 0) Model:\n",
      "Estimates:\n",
      "[ 0.00431514 -0.05694451  0.03314     1.05194035]\n",
      "Standard Errors:\n",
      "[0.04500899 0.04604201 0.04411102 0.06003769]\n",
      "\n",
      "\n",
      "ARMA(2, 1) Model:\n",
      "Estimates:\n",
      "[ 0.0042551  -0.70031159 -0.00815757  0.64416213  1.05154257]\n",
      "Standard Errors:\n",
      "[0.04484516 0.68596385 0.07347205 0.68630105 0.06019827]\n",
      "\n",
      "\n",
      "ARMA(2, 2) Model:\n",
      "Estimates:\n",
      "[ 0.00422427 -0.16899896  0.31914196  0.11279332 -0.29769571  1.05150203]\n",
      "Standard Errors:\n",
      "[0.04487711 8.06420891 4.95039373 8.05817016 4.49150485 0.06054484]\n",
      "\n",
      "\n"
     ]
    },
    {
     "name": "stderr",
     "output_type": "stream",
     "text": [
      "C:\\Users\\joseongmin\\Anaconda3\\lib\\site-packages\\statsmodels\\tsa\\statespace\\sarimax.py:966: UserWarning: Non-stationary starting autoregressive parameters found. Using zeros as starting parameters.\n",
      "  warn('Non-stationary starting autoregressive parameters'\n",
      "C:\\Users\\joseongmin\\Anaconda3\\lib\\site-packages\\statsmodels\\tsa\\statespace\\sarimax.py:978: UserWarning: Non-invertible starting MA parameters found. Using zeros as starting parameters.\n",
      "  warn('Non-invertible starting MA parameters found.'\n"
     ]
    }
   ],
   "source": [
    "# Report the estimates and standard errors of the mode\n",
    "for p in range(3):\n",
    "    for q in range(3):\n",
    "        if p ==0 and q ==0:\n",
    "            pass\n",
    "        else:\n",
    "            model = ARIMA(yt, order=(p, 0, q)).fit()\n",
    "            print(f\"ARMA({p}, {q}) Model:\")\n",
    "            print(\"Estimates:\")\n",
    "            print(model.params)\n",
    "            print(\"Standard Errors:\")\n",
    "            print(model.bse)\n",
    "            print(\"\\n\")"
   ]
  },
  {
   "cell_type": "code",
   "execution_count": 165,
   "id": "ea89cb32",
   "metadata": {},
   "outputs": [
    {
     "name": "stdout",
     "output_type": "stream",
     "text": [
      "Ljung-Box Q-test:\n",
      "Q-statistics: 1     0.001848\n",
      "2     0.512410\n",
      "3     0.702401\n",
      "4     0.704667\n",
      "5     1.156970\n",
      "6     1.186500\n",
      "7     1.479518\n",
      "8     1.515439\n",
      "9     1.610058\n",
      "10    1.947317\n",
      "Name: lb_stat, dtype: float64\n",
      "P-values: 1     0.965708\n",
      "2     0.773983\n",
      "3     0.872639\n",
      "4     0.950752\n",
      "5     0.948938\n",
      "6     0.977546\n",
      "7     0.983010\n",
      "8     0.992448\n",
      "9     0.996245\n",
      "10    0.996728\n",
      "Name: lb_pvalue, dtype: float64\n"
     ]
    }
   ],
   "source": [
    "# Conduct model speciÖcation checking by using Q-test on the residual\n",
    "\n",
    "residuals = best_model.resid\n",
    "lb_test = acorr_ljungbox(residuals, lags=10)\n",
    "print(\"Ljung-Box Q-test:\")\n",
    "print(\"Q-statistics:\", lb_test[\"lb_stat\"])\n",
    "print(\"P-values:\", lb_test[\"lb_pvalue\"])"
   ]
  },
  {
   "cell_type": "code",
   "execution_count": null,
   "id": "e5be9e4a",
   "metadata": {},
   "outputs": [],
   "source": []
  },
  {
   "cell_type": "code",
   "execution_count": null,
   "id": "14a25f69",
   "metadata": {},
   "outputs": [],
   "source": []
  },
  {
   "cell_type": "code",
   "execution_count": null,
   "id": "fa88908b",
   "metadata": {},
   "outputs": [],
   "source": []
  },
  {
   "cell_type": "code",
   "execution_count": null,
   "id": "d5e34d6c",
   "metadata": {},
   "outputs": [],
   "source": []
  },
  {
   "cell_type": "code",
   "execution_count": null,
   "id": "7afea3b0",
   "metadata": {},
   "outputs": [],
   "source": []
  },
  {
   "cell_type": "code",
   "execution_count": null,
   "id": "b668d7b8",
   "metadata": {},
   "outputs": [],
   "source": []
  },
  {
   "cell_type": "code",
   "execution_count": null,
   "id": "41085b0e",
   "metadata": {},
   "outputs": [],
   "source": [
    "# 7"
   ]
  }
 ],
 "metadata": {
  "kernelspec": {
   "display_name": "Python 3 (ipykernel)",
   "language": "python",
   "name": "python3"
  },
  "language_info": {
   "codemirror_mode": {
    "name": "ipython",
    "version": 3
   },
   "file_extension": ".py",
   "mimetype": "text/x-python",
   "name": "python",
   "nbconvert_exporter": "python",
   "pygments_lexer": "ipython3",
   "version": "3.9.13"
  }
 },
 "nbformat": 4,
 "nbformat_minor": 5
}
